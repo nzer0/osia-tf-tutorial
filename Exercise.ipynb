{
 "cells": [
  {
   "cell_type": "code",
   "execution_count": 1,
   "metadata": {
    "collapsed": false,
    "deletable": true,
    "editable": true
   },
   "outputs": [
    {
     "name": "stdout",
     "output_type": "stream",
     "text": [
      "Populating the interactive namespace from numpy and matplotlib\n"
     ]
    }
   ],
   "source": [
    "import tensorflow as tf\n",
    "import numpy as np\n",
    "floatX = lambda x: np.asarray(x, dtype='float32')\n",
    "import matplotlib.pyplot as plt\n",
    "%pylab inline"
   ]
  },
  {
   "cell_type": "markdown",
   "metadata": {
    "deletable": true,
    "editable": true
   },
   "source": [
    "## 1. Playing with some equations\n",
    "### $$ y = exp(-x) $$\n",
    "### $$ z = xy^2+3x^2$$\n",
    "Evaluate for x=0, x=3, etc."
   ]
  },
  {
   "cell_type": "code",
   "execution_count": 2,
   "metadata": {
    "collapsed": false,
    "deletable": true,
    "editable": true
   },
   "outputs": [
    {
     "name": "stdout",
     "output_type": "stream",
     "text": [
      "[0.049787067, 27.007437, 54.014874]\n"
     ]
    }
   ],
   "source": [
    "# Your code here\n",
    "x = tf.placeholder(tf.float32, name='x')\n",
    "y = tf.exp(-x)\n",
    "z = x*y**2 + 3*x**2\n",
    "sess = tf.Session()\n",
    "results = sess.run([y, z, 2*z], feed_dict={x: 3} )\n",
    "print results\n",
    "sess.close()"
   ]
  },
  {
   "cell_type": "markdown",
   "metadata": {
    "deletable": true,
    "editable": true
   },
   "source": [
    "## 2. Gradient Descent Optimization (Fermat's Minimum Time Principle)\n",
    "![Fermat's minimum time principle](http://hyperphysics.phy-astr.gsu.edu/hbase/phyopt/imgpho/fer5.gif)\n",
    "\n",
    "1. According to Fermat, light moves along the path that takes the minimum time. Formulate this problem with TensorFlow and use Gradient Descent Optimizer to solve it. (Hint: the speed of light in matter with refractive index $n$ is $c/n$.)\n",
    "1. For various value settings of $a$, $b$, $d$ Compute the $\\frac{\\sin \\theta_1}{\\sin \\theta_2}$ value and check that it is constant."
   ]
  },
  {
   "cell_type": "code",
   "execution_count": 3,
   "metadata": {
    "collapsed": false,
    "deletable": true,
    "editable": true
   },
   "outputs": [
    {
     "name": "stdout",
     "output_type": "stream",
     "text": [
      "Epoch: 0, tval: 12.2703294754, xval: 0.928476691246\n",
      "Epoch: 1, tval: 11.1193065643, xval: 1.31572461128\n",
      "Epoch: 2, tval: 10.8631639481, xval: 1.59747064114\n",
      "Epoch: 3, tval: 10.7205715179, xval: 1.82385373116\n",
      "Epoch: 4, tval: 10.6267871857, xval: 2.01242566109\n",
      "Epoch: 5, tval: 10.5612211227, xval: 2.17176318169\n",
      "Epoch: 6, tval: 10.514289856, xval: 2.30699157715\n",
      "Epoch: 7, tval: 10.4804887772, xval: 2.42167592049\n",
      "Epoch: 8, tval: 10.4562120438, xval: 2.51860189438\n",
      "Epoch: 9, tval: 10.4389095306, xval: 2.60012245178\n",
      "Epoch: 10, tval: 10.4266986847, xval: 2.66831421852\n",
      "Epoch: 11, tval: 10.418176651, xval: 2.72504329681\n",
      "Epoch: 12, tval: 10.4122934341, xval: 2.77198886871\n",
      "Epoch: 13, tval: 10.4082736969, xval: 2.81065130234\n",
      "Epoch: 14, tval: 10.4055519104, xval: 2.84235525131\n",
      "Epoch: 15, tval: 10.4037246704, xval: 2.8682551384\n",
      "Epoch: 16, tval: 10.402507782, xval: 2.88934540749\n",
      "Epoch: 17, tval: 10.4017019272, xval: 2.90647220612\n",
      "Epoch: 18, tval: 10.4011707306, xval: 2.92034864426\n",
      "Epoch: 19, tval: 10.4008216858, xval: 2.9315700531\n",
      "Epoch: 20, tval: 10.4005947113, xval: 2.94063043594\n",
      "Epoch: 21, tval: 10.4004459381, xval: 2.94793629646\n",
      "Epoch: 22, tval: 10.4003505707, xval: 2.95382118225\n",
      "Epoch: 23, tval: 10.4002876282, xval: 2.95855760574\n",
      "Epoch: 24, tval: 10.4002475739, xval: 2.96236681938\n",
      "Epoch: 25, tval: 10.400220871, xval: 2.96542859077\n",
      "Epoch: 26, tval: 10.4002037048, xval: 2.96788859367\n",
      "Epoch: 27, tval: 10.4001932144, xval: 2.96986436844\n",
      "Epoch: 28, tval: 10.4001865387, xval: 2.97145080566\n",
      "Epoch: 29, tval: 10.4001808167, xval: 2.9727241993\n"
     ]
    }
   ],
   "source": [
    "# Your code here\n",
    "a = tf.placeholder(tf.float32, name='a')\n",
    "b = tf.placeholder(tf.float32, name='b')\n",
    "d = tf.placeholder(tf.float32, name='d')\n",
    "x = tf.Variable(0.0, name='x')\n",
    "\n",
    "n1 = 1.5\n",
    "n2 = 2.0\n",
    "c = 1.0\n",
    "\n",
    "l1 = tf.sqrt(a**2 + x**2)\n",
    "l2 = tf.sqrt(b**2 + (d-x)**2)\n",
    "t1 = l1 / (c / n1)\n",
    "t2 = l2 / (c / n2)\n",
    "\n",
    "t = t1 + t2\n",
    "\n",
    "train_step = tf.train.GradientDescentOptimizer(learning_rate=0.5).minimize(t)\n",
    "\n",
    "sess = tf.Session()\n",
    "sess.run(tf.global_variables_initializer())\n",
    "for epoch in xrange(30):\n",
    "    _, tval, xval = sess.run([train_step, t, x], feed_dict={a: 1.0, b: 2.0, d: 5.0})\n",
    "    print \"Epoch: {}, tval: {}, xval: {}\".format(epoch, tval, xval)\n",
    "sess.close()"
   ]
  },
  {
   "cell_type": "code",
   "execution_count": 4,
   "metadata": {
    "collapsed": false
   },
   "outputs": [
    {
     "name": "stdout",
     "output_type": "stream",
     "text": [
      "Epoch: 0, sin_rate: 0.0\n",
      "Epoch: 1, sin_rate: 0.758071959019\n",
      "Epoch: 2, sin_rate: 0.905890166759\n",
      "Epoch: 3, sin_rate: 0.983206391335\n",
      "Epoch: 4, sin_rate: 1.03620874882\n",
      "Epoch: 5, sin_rate: 1.07767283916\n",
      "Epoch: 6, sin_rate: 1.11250150204\n",
      "Epoch: 7, sin_rate: 1.14286351204\n",
      "Epoch: 8, sin_rate: 1.16977572441\n",
      "Epoch: 9, sin_rate: 1.1937289238\n",
      "Epoch: 10, sin_rate: 1.21497642994\n",
      "Epoch: 11, sin_rate: 1.23368132114\n",
      "Epoch: 12, sin_rate: 1.24998927116\n",
      "Epoch: 13, sin_rate: 1.26406049728\n",
      "Epoch: 14, sin_rate: 1.27607882023\n",
      "Epoch: 15, sin_rate: 1.28624629974\n",
      "Epoch: 16, sin_rate: 1.29477441311\n",
      "Epoch: 17, sin_rate: 1.30187368393\n",
      "Epoch: 18, sin_rate: 1.3077454567\n",
      "Epoch: 19, sin_rate: 1.31257498264\n",
      "Epoch: 20, sin_rate: 1.3165293932\n",
      "Epoch: 21, sin_rate: 1.31975448132\n",
      "Epoch: 22, sin_rate: 1.32237648964\n",
      "Epoch: 23, sin_rate: 1.32450258732\n",
      "Epoch: 24, sin_rate: 1.32622313499\n",
      "Epoch: 25, sin_rate: 1.32761287689\n",
      "Epoch: 26, sin_rate: 1.32873392105\n",
      "Epoch: 27, sin_rate: 1.32963705063\n",
      "Epoch: 28, sin_rate: 1.33036410809\n",
      "Epoch: 29, sin_rate: 1.33094906807\n",
      ">> n2/n1: 1.33333333333, sin_rate: 1.33094906807\n",
      "Epoch: 0, sin_rate: 0.0\n",
      "Epoch: 1, sin_rate: 0.765672564507\n",
      "Epoch: 2, sin_rate: 0.932169616222\n",
      "Epoch: 3, sin_rate: 1.03754401207\n",
      "Epoch: 4, sin_rate: 1.12231361866\n",
      "Epoch: 5, sin_rate: 1.19169199467\n",
      "Epoch: 6, sin_rate: 1.24427652359\n",
      "Epoch: 7, sin_rate: 1.28033995628\n",
      "Epoch: 8, sin_rate: 1.30301821232\n",
      "Epoch: 9, sin_rate: 1.31642365456\n",
      "Epoch: 10, sin_rate: 1.324041605\n",
      "Epoch: 11, sin_rate: 1.32827091217\n",
      "Epoch: 12, sin_rate: 1.33058810234\n",
      "Epoch: 13, sin_rate: 1.331848979\n",
      "Epoch: 14, sin_rate: 1.3325316906\n",
      "Epoch: 15, sin_rate: 1.33290076256\n",
      "Epoch: 16, sin_rate: 1.33310008049\n",
      "Epoch: 17, sin_rate: 1.33320736885\n",
      "Epoch: 18, sin_rate: 1.33326554298\n",
      "Epoch: 19, sin_rate: 1.33329665661\n",
      "Epoch: 20, sin_rate: 1.33331358433\n",
      "Epoch: 21, sin_rate: 1.33332252502\n",
      "Epoch: 22, sin_rate: 1.33332753181\n",
      "Epoch: 23, sin_rate: 1.33333027363\n",
      "Epoch: 24, sin_rate: 1.33333182335\n",
      "Epoch: 25, sin_rate: 1.3333324194\n",
      "Epoch: 26, sin_rate: 1.33333265781\n",
      "Epoch: 27, sin_rate: 1.33333301544\n",
      "Epoch: 28, sin_rate: 1.33333325386\n",
      "Epoch: 29, sin_rate: 1.33333325386\n",
      ">> n2/n1: 1.33333333333, sin_rate: 1.33333325386\n",
      "Epoch: 0, sin_rate: 0.0\n",
      "Epoch: 1, sin_rate: 0.208701059222\n",
      "Epoch: 2, sin_rate: 0.389770627022\n",
      "Epoch: 3, sin_rate: 0.549154639244\n",
      "Epoch: 4, sin_rate: 0.693086922169\n",
      "Epoch: 5, sin_rate: 0.823547005653\n",
      "Epoch: 6, sin_rate: 0.938999950886\n",
      "Epoch: 7, sin_rate: 1.03700244427\n",
      "Epoch: 8, sin_rate: 1.11636352539\n",
      "Epoch: 9, sin_rate: 1.17786097527\n",
      "Epoch: 10, sin_rate: 1.22379040718\n",
      "Epoch: 11, sin_rate: 1.25711905956\n",
      "Epoch: 12, sin_rate: 1.2807905674\n",
      "Epoch: 13, sin_rate: 1.29734420776\n",
      "Epoch: 14, sin_rate: 1.3087939024\n",
      "Epoch: 15, sin_rate: 1.31665325165\n",
      "Epoch: 16, sin_rate: 1.32201969624\n",
      "Epoch: 17, sin_rate: 1.32567095757\n",
      "Epoch: 18, sin_rate: 1.32814908028\n",
      "Epoch: 19, sin_rate: 1.32982802391\n",
      "Epoch: 20, sin_rate: 1.33096432686\n",
      "Epoch: 21, sin_rate: 1.33173274994\n",
      "Epoch: 22, sin_rate: 1.33225214481\n",
      "Epoch: 23, sin_rate: 1.33260309696\n",
      "Epoch: 24, sin_rate: 1.33283996582\n",
      "Epoch: 25, sin_rate: 1.33300018311\n",
      "Epoch: 26, sin_rate: 1.33310818672\n",
      "Epoch: 27, sin_rate: 1.33318150043\n",
      "Epoch: 28, sin_rate: 1.33323085308\n",
      "Epoch: 29, sin_rate: 1.33326423168\n",
      ">> n2/n1: 1.33333333333, sin_rate: 1.33326423168\n"
     ]
    }
   ],
   "source": [
    "value_sets = [{a: 1.0, b: 2.0, d: 5.0}, {a: 1.0, b: 1.0, d: 3.0}, {a: 5.0, b: 3.0, d: 5.0}]\n",
    "sin1 = x / l1\n",
    "sin2 = (d-x) / l2\n",
    "sin_rate = sin1 / sin2\n",
    "\n",
    "sess = tf.Session()\n",
    "for value_set in value_sets:\n",
    "    sess.run(tf.global_variables_initializer())\n",
    "    for epoch in xrange(30):\n",
    "        _, sin_rate_val = sess.run([train_step, sin_rate], feed_dict=value_set)\n",
    "        print \"Epoch: {}, sin_rate: {}\".format(epoch, sin_rate_val)\n",
    "    print \">> n2/n1: {}, sin_rate: {}\".format(n2/n1, sin_rate_val)\n",
    "sess.close()"
   ]
  },
  {
   "cell_type": "markdown",
   "metadata": {
    "collapsed": true,
    "deletable": true,
    "editable": true
   },
   "source": [
    "## 3. Visualization\n",
    "On page 5 of your slide, there is an example equation:\n",
    "$$ y = A\\exp(-bt)cos(wt) $$\n",
    "1. Implement the equation with TensorFlow in your preferred way and add summaries. After running the session, open up the TensorBoard to see the computational graph. (Hint: Code fo adding summies and summary writer can be found in page 8.)\n",
    "2. For certain value settings of $A$, $b$ and $w$, draw a plot $y$ versus $t$. (Hint: plt.plot(t, y) will do the plotting. It is better to implement $t$ as a vector to compute for multiple $t$ values at once.)"
   ]
  },
  {
   "cell_type": "code",
   "execution_count": 5,
   "metadata": {
    "collapsed": false,
    "deletable": true,
    "editable": true
   },
   "outputs": [
    {
     "name": "stdout",
     "output_type": "stream",
     "text": [
      "0.321364\n"
     ]
    }
   ],
   "source": [
    "# Your code here\n",
    "tf.reset_default_graph()\n",
    "\n",
    "t = tf.placeholder(tf.float32, name='t')\n",
    "w = tf.constant(2.0, name='w')\n",
    "b = tf.Variable(0.5, name='b')\n",
    "A = 1.5\n",
    "\n",
    "y = A*tf.exp(-b*t)*tf.cos(w*t)\n",
    "\n",
    "sess = tf.Session()\n",
    "sess.run(tf.global_variables_initializer())\n",
    "writer = tf.summary.FileWriter('log', sess.graph)\n",
    "y_val = sess.run(y, feed_dict={t: 3.0})\n",
    "print y_val\n",
    "\n",
    "sess.close()\n",
    "## Now open the Tensorboard"
   ]
  },
  {
   "cell_type": "code",
   "execution_count": 6,
   "metadata": {
    "collapsed": false
   },
   "outputs": [
    {
     "name": "stdout",
     "output_type": "stream",
     "text": [
      "[ 0.          0.05050505  0.1010101   0.15151515  0.2020202   0.25252525\n",
      "  0.3030303   0.35353535  0.4040404   0.45454545  0.50505051  0.55555556\n",
      "  0.60606061  0.65656566  0.70707071  0.75757576  0.80808081  0.85858586\n",
      "  0.90909091  0.95959596  1.01010101  1.06060606  1.11111111  1.16161616\n",
      "  1.21212121  1.26262626  1.31313131  1.36363636  1.41414141  1.46464646\n",
      "  1.51515152  1.56565657  1.61616162  1.66666667  1.71717172  1.76767677\n",
      "  1.81818182  1.86868687  1.91919192  1.96969697  2.02020202  2.07070707\n",
      "  2.12121212  2.17171717  2.22222222  2.27272727  2.32323232  2.37373737\n",
      "  2.42424242  2.47474747  2.52525253  2.57575758  2.62626263  2.67676768\n",
      "  2.72727273  2.77777778  2.82828283  2.87878788  2.92929293  2.97979798\n",
      "  3.03030303  3.08080808  3.13131313  3.18181818  3.23232323  3.28282828\n",
      "  3.33333333  3.38383838  3.43434343  3.48484848  3.53535354  3.58585859\n",
      "  3.63636364  3.68686869  3.73737374  3.78787879  3.83838384  3.88888889\n",
      "  3.93939394  3.98989899  4.04040404  4.09090909  4.14141414  4.19191919\n",
      "  4.24242424  4.29292929  4.34343434  4.39393939  4.44444444  4.49494949\n",
      "  4.54545455  4.5959596   4.64646465  4.6969697   4.74747475  4.7979798\n",
      "  4.84848485  4.8989899   4.94949495  5.        ]\n"
     ]
    },
    {
     "data": {
      "image/png": "[encoded data removed]",
      "text/plain": [
       "<matplotlib.figure.Figure at 0x7f9b85afacd0>"
      ]
     },
     "metadata": {},
     "output_type": "display_data"
    }
   ],
   "source": [
    "t_vals = np.linspace(0,5,100)\n",
    "print t_vals \n",
    "sess = tf.Session()\n",
    "sess.run(tf.global_variables_initializer())\n",
    "y_vals = sess.run(y, feed_dict={t: t_vals})\n",
    "\n",
    "plt.plot(t_vals, y_vals)\n",
    "plt.xlabel('t')\n",
    "plt.ylabel('y')\n",
    "plt.show()"
   ]
  },
  {
   "cell_type": "code",
   "execution_count": null,
   "metadata": {
    "collapsed": true
   },
   "outputs": [],
   "source": []
  }
 ],
 "metadata": {
  "kernelspec": {
   "display_name": "Python 2",
   "language": "python",
   "name": "python2"
  },
  "language_info": {
   "codemirror_mode": {
    "name": "ipython",
    "version": 2
   },
   "file_extension": ".py",
   "mimetype": "text/x-python",
   "name": "python",
   "nbconvert_exporter": "python",
   "pygments_lexer": "ipython2",
   "version": "2.7.6"
  }
 },
 "nbformat": 4,
 "nbformat_minor": 2
}
