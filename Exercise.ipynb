{
 "cells": [
  {
   "cell_type": "code",
   "execution_count": 2,
   "metadata": {
    "collapsed": true
   },
   "outputs": [],
   "source": [
    "import tensorflow as tf\n",
    "import numpy as np\n",
    "floatX = lambda x: np.asarray(x, dtype='float32')"
   ]
  },
  {
   "cell_type": "markdown",
   "metadata": {},
   "source": [
    "## 1. Playing with some equations\n",
    "### $$ y = exp(-x) $$\n",
    "### $$ z = xy^2+3x^2$$\n",
    "Evaluate for x=0, x=3, etc."
   ]
  },
  {
   "cell_type": "code",
   "execution_count": 3,
   "metadata": {
    "collapsed": true
   },
   "outputs": [],
   "source": [
    "# Your code here"
   ]
  },
  {
   "cell_type": "markdown",
   "metadata": {},
   "source": [
    "## 2. Gradient Descent Optimization (Fermat's Minimum Time Principle)\n",
    "![Fermat's minimum time principle](http://hyperphysics.phy-astr.gsu.edu/hbase/phyopt/imgpho/fer5.gif)\n",
    "\n",
    "1. According to Fermat, light moves along the path that takes the minimum time. Formulate this problem with TensorFlow and use Gradient Descent Optimizer to solve it. (Hint: the speed of light in matter with refractive index $n$ is $c/n$.)\n",
    "1. For various value settings of $a$, $b$, $d$ Compute the $\\frac{\\sin \\theta_1}{\\sin \\theta_2}$ value and check that it is constant. (Hint: vectorize the implementation to compute for multiple value settings at the same time.)"
   ]
  },
  {
   "cell_type": "code",
   "execution_count": 4,
   "metadata": {
    "collapsed": true
   },
   "outputs": [],
   "source": [
    "# Your code here"
   ]
  },
  {
   "cell_type": "code",
   "execution_count": null,
   "metadata": {
    "collapsed": true
   },
   "outputs": [],
   "source": []
  }
 ],
 "metadata": {
  "kernelspec": {
   "display_name": "Python 2",
   "language": "python",
   "name": "python2"
  },
  "language_info": {
   "codemirror_mode": {
    "name": "ipython",
    "version": 2
   },
   "file_extension": ".py",
   "mimetype": "text/x-python",
   "name": "python",
   "nbconvert_exporter": "python",
   "pygments_lexer": "ipython2",
   "version": "2.7.6"
  }
 },
 "nbformat": 4,
 "nbformat_minor": 2
}
